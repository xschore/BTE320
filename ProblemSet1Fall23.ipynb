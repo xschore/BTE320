{
  "nbformat": 4,
  "nbformat_minor": 0,
  "metadata": {
    "colab": {
      "provenance": [],
      "include_colab_link": true
    },
    "kernelspec": {
      "name": "python3",
      "display_name": "Python 3"
    },
    "language_info": {
      "name": "python"
    }
  },
  "cells": [
    {
      "cell_type": "markdown",
      "metadata": {
        "id": "view-in-github",
        "colab_type": "text"
      },
      "source": [
        "<a href=\"https://colab.research.google.com/github/xschore/BTE320/blob/main/ProblemSet1Fall23.ipynb\" target=\"_parent\"><img src=\"https://colab.research.google.com/assets/colab-badge.svg\" alt=\"Open In Colab\"/></a>"
      ]
    },
    {
      "cell_type": "markdown",
      "source": [
        "# Problem Set 2"
      ],
      "metadata": {
        "id": "mqKVIuY-mxNU"
      }
    },
    {
      "cell_type": "markdown",
      "source": [
        "## Assignment 1: Quality Control (7 points)\n",
        "\n",
        "A quality control manager would like to find the average weight of a list of weights. Prior experience indicates that the first two measures are atypical, and the practice is to exclude these from the average calculation.\n",
        "\n",
        "Write a program that calculates the average of a list of numbers that given as inputs from the user, excluding the first two values.\n",
        "\n",
        "For your program, you must define and use the following functions:\n",
        "- `getValues(n)`: Prompt the user for `n` values, returns the list\n",
        "- `calcAverage(alist)`: Calculates the average from the list"
      ],
      "metadata": {
        "id": "-RSYW1jVm08n"
      }
    },
    {
      "cell_type": "code",
      "execution_count": null,
      "metadata": {
        "id": "AqbgJkgNmvQw",
        "colab": {
          "base_uri": "https://localhost:8080/"
        },
        "outputId": "3dcf9ac5-8b1b-4d14-b1f5-3d6ebad39173"
      },
      "outputs": [
        {
          "output_type": "stream",
          "name": "stdout",
          "text": [
            "Enter number of weights to be added to the list: 3\n",
            "Enter a weight: 10\n",
            "Enter a weight: 20\n",
            "Enter a weight: 30\n",
            "30.0\n"
          ]
        }
      ],
      "source": [
        "def getValues(n):\n",
        "  weights =[]\n",
        "  if n<3:\n",
        "    print('Not enough weights')\n",
        "    return None\n",
        "  else:\n",
        "    for i in range(n):\n",
        "      weights.append(float(input('Enter a weight: ')))\n",
        "    return weights[2:]\n",
        "def calcAverage(alist):\n",
        "  print(sum(alist)/len(alist))\n",
        "n_weights=int(input('Enter number of weights to be added to the list: '))\n",
        "calcAverage(getValues(n_weights))"
      ]
    },
    {
      "cell_type": "markdown",
      "source": [
        "## Assignment 2: Country Statistics Lookup-Multiple Measures (6 points)\n",
        "\n",
        "Assume a program begins with the statement:\n",
        "\n",
        "```python\n",
        "allData = { # dictionary of values for countries\n",
        "    'US': {'pop':325.7, 'gdp': 19.39, 'ccy': 'USD', 'fx':  1.0},\n",
        "    'CA': {'pop': 36.5, 'gdp':  1.65, 'ccy': 'CAD', 'fx':  1.35},\n",
        "    'MX': {'pop':129.2, 'gdp':  1.15, 'ccy': 'MXN', 'fx': 19.68}\n",
        "    }\n",
        "```\n",
        "\n",
        "Write subsequent statements that (in a loop) prompt the user for a country code (`US`, `CA`, or `MX`), then prompt for a measure name (`pop`, `gdp`, `ccy`, or `fx`), then look up in the above dictionary for the corresponding value, and display it.\n",
        "\n",
        "Example run:\n",
        "```\n",
        "Please enter a country code: CA\n",
        "Please enter a statistic: pop\n",
        "CA pop = 36.5\n",
        "```\n",
        "\n",
        "Your program should handle the cases where a user-entered country code or measure name is not found."
      ],
      "metadata": {
        "id": "QFO0Kzx8ncnv"
      }
    },
    {
      "cell_type": "code",
      "source": [
        "allData = { # dictionary of values for countries\n",
        "    'US': {'pop':325.7, 'gdp': 19.39, 'ccy': 'USD', 'fx':  1.0},\n",
        "    'CA': {'pop': 36.5, 'gdp':  1.65, 'ccy': 'CAD', 'fx':  1.35},\n",
        "    'MX': {'pop':129.2, 'gdp':  1.15, 'ccy': 'MXN', 'fx': 19.68}\n",
        "    }\n",
        "while True:\n",
        "  Code=input('Enter a country code (or type exit to stop): ')\n",
        "  if Code=='exit':\n",
        "    break\n",
        "  if Code not in allData.keys():\n",
        "    print(f'This code does not exist: {Code}')\n",
        "    continue\n",
        "  Data=input('Enter a statistic: ')\n",
        "  if Data not in allData[Code].keys():\n",
        "    print(f'Unknown statistic: {Data}')\n",
        "    continue\n",
        "  if Data=='pop':\n",
        "    print(f'Population: {allData[Code][Data]} million people.')\n",
        "  elif Data=='gdp':\n",
        "    print(f'GDP: {allData[Code][Data]} trillion USD.')\n",
        "  elif Data=='ccy':\n",
        "    print(f'Currency: {allData[Code][Data]}.')\n",
        "  else:\n",
        "    print(f'FX: {allData[Code][Data]}.')\n"
      ],
      "metadata": {
        "id": "NZFjRINKowEW",
        "colab": {
          "base_uri": "https://localhost:8080/"
        },
        "outputId": "fb62fcfe-eec6-40e8-f522-fb6da4a8a077"
      },
      "execution_count": null,
      "outputs": [
        {
          "name": "stdout",
          "output_type": "stream",
          "text": [
            "Enter a country code (or type exit to stop): exit\n"
          ]
        }
      ]
    },
    {
      "cell_type": "markdown",
      "source": [
        "## Assignment 3: Parking Garage (6 points)\n",
        "\n",
        "Write a program to compute the fee for parking in a garage for a number of hours.\n",
        "\n",
        "The program should:\n",
        "- Prompt the user for how many hours parked\n",
        "- Calculate the fee based on the following rules:\n",
        "  - $2.50/hour\n",
        "\n",
        "  - minimum fee is $6.00\n",
        "\n",
        "  - maximum fee is $20.00\n",
        "- Print the result\n",
        "\n",
        "For your program, define and use the following two functions:\n",
        "```python\n",
        "# use input() to prompt for the # of hours parked, return this value\n",
        "def getParkingHours()\n",
        "\n",
        "# takes as input hours (a number), returns the parking fee\n",
        "def calcParkingFee()\n",
        "```"
      ],
      "metadata": {
        "id": "GjaUFrnfpKFf"
      }
    },
    {
      "cell_type": "code",
      "source": [
        "def getParkingHours():\n",
        "  x=float(input(\"Enter number of hours parked: \"))\n",
        "  return x\n",
        "x=getParkingHours()\n",
        "def calcParkingFee():\n",
        "  if x*2.5<6:\n",
        "    return 6\n",
        "  elif x*2.5>20:\n",
        "    return 20\n",
        "  else:\n",
        "    return x*2.5\n",
        "print(f'Parking fee: ${float(calcParkingFee())}')"
      ],
      "metadata": {
        "id": "5ha4O3V5pwNN",
        "colab": {
          "base_uri": "https://localhost:8080/"
        },
        "outputId": "677952a4-e343-4ee6-cdff-623cdda02527"
      },
      "execution_count": null,
      "outputs": [
        {
          "output_type": "stream",
          "name": "stdout",
          "text": [
            "Enter number of hours parked: 10\n",
            "Parking fee: $20.0\n"
          ]
        }
      ]
    },
    {
      "cell_type": "markdown",
      "source": [
        "## Assignment 4: Tuition (6 points)\n",
        "\n",
        "A college charges tuition according to the following:\n",
        "- 12 or more credits: $20,000/semester\n",
        "\n",
        "- 1-11 credits: $1,200 + $1,700 per credit\n",
        "\n",
        "Write a program that prompts the user for a number of credits and determines and displays the tuition for the semester. As part of your program, define and use the following function:\n",
        "```python\n",
        "def calcTuition(credits)\n",
        "```\n",
        "The function returns the tuition for a given number of credits"
      ],
      "metadata": {
        "id": "gipBObe5qm-2"
      }
    },
    {
      "cell_type": "code",
      "source": [
        "def calcTuition():\n",
        "  x=float(input('Enter number of credits: '))\n",
        "  return x\n",
        "x=calcTuition()\n",
        "if x>=12:\n",
        "  print(f'Cost: ${20000}')\n",
        "elif x>=1:\n",
        "  print(f'Cost: ${1200+1700*x}')\n",
        "else:\n",
        "  print('Invalid number of credits')"
      ],
      "metadata": {
        "id": "e0pdkIF7ZgNT",
        "colab": {
          "base_uri": "https://localhost:8080/"
        },
        "outputId": "fe93b6ad-2b51-4ce5-be82-22f571147aaf"
      },
      "execution_count": null,
      "outputs": [
        {
          "output_type": "stream",
          "name": "stdout",
          "text": [
            "Enter number of credits: 0\n",
            "Invalid number of credits\n"
          ]
        }
      ]
    }
  ]
}