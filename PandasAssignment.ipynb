{
  "cells": [
    {
      "cell_type": "markdown",
      "id": "64d7f59f-248f-4fc8-9597-e1f3b35a9b98",
      "metadata": {
        "id": "64d7f59f-248f-4fc8-9597-e1f3b35a9b98"
      },
      "source": [
        "## Data Analysis assignment (20 points)\n",
        "\n",
        "You have been given the dataset `travel-times` in a CSV format. This dataset comes from a driver that uses an app to track GPS coordinates as he drives to work and back each day. The app collects the location and elevation data. In total, data for about 200 trips are summarized in this data set.\n",
        "\n",
        "Load the `travel-times` in a `df` variable using `pandas` and then perform the following:\n",
        "- print the shape of the dataset **(1 points)**\n",
        "- print the first 15 rows of the dataset **(1 points)**\n",
        "- get information for the features (columns) with missing values **(1 points)**\n",
        "- drop duplicate values (if any) by keeping only the last instance **(1 points)**\n",
        "- calculate the total number of missing values (if any) on each column **(2 points)**\n",
        "- create two copies of the dataframe, and then:\n",
        "    - drop rows with missing values from the 1st copy **(1 points)**\n",
        "    - drop columns with missing values from the 2nd copy **(1 points)**\n",
        "- get summary statistics and see the correlation between the numerical columns **(1 points)**\n",
        "- show rows 11 to 14 **(1 points)**\n",
        "- create a subset with trips occurred on November 23, 2011 and January 6, 2012 **(2 points)**\n",
        "- produce a scatterplot between `Distance` and `TotalTime` **(1 points)**\n",
        "    * Use:\n",
        "```python\n",
        "import matplotlib.pyplot as plt\n",
        "plt.rcParams.update({'font.size': 20, 'figure.figsize': (10, 8)})\n",
        "```\n",
        "- produce boxplots for `AvgSpeed` and `AvgMovingSpeed` (use different cells for each) **(2 points)**"
      ]
    },
    {
      "cell_type": "code",
      "execution_count": 1,
      "id": "3a276345-b8ef-419f-b55a-660d02d6279c",
      "metadata": {
        "id": "3a276345-b8ef-419f-b55a-660d02d6279c"
      },
      "outputs": [
        {
          "name": "stderr",
          "output_type": "stream",
          "text": [
            "/var/folders/x3/4z8bgfg106v_fq24m2t3bygr0000gn/T/ipykernel_33434/2119494133.py:2: DeprecationWarning: \n",
            "Pyarrow will become a required dependency of pandas in the next major release of pandas (pandas 3.0),\n",
            "(to allow more performant data types, such as the Arrow string type, and better interoperability with other libraries)\n",
            "but was not found to be installed on your system.\n",
            "If this would cause problems for you,\n",
            "please provide us feedback at https://github.com/pandas-dev/pandas/issues/54466\n",
            "        \n",
            "  import pandas as pd\n"
          ]
        }
      ],
      "source": [
        "import matplotlib.pyplot as plt\n",
        "import pandas as pd\n",
        "\n",
        "plt.rcParams.update({'font.size': 20, 'figure.figsize': (10, 8)})"
      ]
    },
    {
      "cell_type": "code",
      "execution_count": 2,
      "id": "YfjXyWFmYNA6",
      "metadata": {
        "id": "YfjXyWFmYNA6"
      },
      "outputs": [],
      "source": [
        "df=pd.read_csv('/Users/xavierschore/Desktop/School/BTE 320/Pandas assignment/travel-times.csv')"
      ]
    },
    {
      "cell_type": "code",
      "execution_count": 3,
      "id": "FRH-W1qgZcBq",
      "metadata": {
        "id": "FRH-W1qgZcBq"
      },
      "outputs": [
        {
          "data": {
            "text/plain": [
              "(205, 13)"
            ]
          },
          "execution_count": 3,
          "metadata": {},
          "output_type": "execute_result"
        }
      ],
      "source": [
        "df.shape"
      ]
    },
    {
      "cell_type": "code",
      "execution_count": 4,
      "id": "S40XD4uiZgzS",
      "metadata": {
        "id": "S40XD4uiZgzS"
      },
      "outputs": [
        {
          "data": {
            "text/html": [
              "<div>\n",
              "<style scoped>\n",
              "    .dataframe tbody tr th:only-of-type {\n",
              "        vertical-align: middle;\n",
              "    }\n",
              "\n",
              "    .dataframe tbody tr th {\n",
              "        vertical-align: top;\n",
              "    }\n",
              "\n",
              "    .dataframe thead th {\n",
              "        text-align: right;\n",
              "    }\n",
              "</style>\n",
              "<table border=\"1\" class=\"dataframe\">\n",
              "  <thead>\n",
              "    <tr style=\"text-align: right;\">\n",
              "      <th></th>\n",
              "      <th>Date</th>\n",
              "      <th>StartTime</th>\n",
              "      <th>DayOfWeek</th>\n",
              "      <th>GoingTo</th>\n",
              "      <th>Distance</th>\n",
              "      <th>MaxSpeed</th>\n",
              "      <th>AvgSpeed</th>\n",
              "      <th>AvgMovingSpeed</th>\n",
              "      <th>FuelEconomy</th>\n",
              "      <th>TotalTime</th>\n",
              "      <th>MovingTime</th>\n",
              "      <th>Take407All</th>\n",
              "      <th>Comments</th>\n",
              "    </tr>\n",
              "  </thead>\n",
              "  <tbody>\n",
              "    <tr>\n",
              "      <th>0</th>\n",
              "      <td>1/6/2012</td>\n",
              "      <td>16:37</td>\n",
              "      <td>Friday</td>\n",
              "      <td>Home</td>\n",
              "      <td>51.29</td>\n",
              "      <td>127.4</td>\n",
              "      <td>78.3</td>\n",
              "      <td>84.8</td>\n",
              "      <td>NaN</td>\n",
              "      <td>39.3</td>\n",
              "      <td>36.3</td>\n",
              "      <td>No</td>\n",
              "      <td>NaN</td>\n",
              "    </tr>\n",
              "    <tr>\n",
              "      <th>1</th>\n",
              "      <td>1/6/2012</td>\n",
              "      <td>08:20</td>\n",
              "      <td>Friday</td>\n",
              "      <td>GSK</td>\n",
              "      <td>51.63</td>\n",
              "      <td>130.3</td>\n",
              "      <td>81.8</td>\n",
              "      <td>88.9</td>\n",
              "      <td>NaN</td>\n",
              "      <td>37.9</td>\n",
              "      <td>34.9</td>\n",
              "      <td>No</td>\n",
              "      <td>NaN</td>\n",
              "    </tr>\n",
              "    <tr>\n",
              "      <th>2</th>\n",
              "      <td>1/4/2012</td>\n",
              "      <td>16:17</td>\n",
              "      <td>Wednesday</td>\n",
              "      <td>Home</td>\n",
              "      <td>51.27</td>\n",
              "      <td>127.4</td>\n",
              "      <td>82.0</td>\n",
              "      <td>85.8</td>\n",
              "      <td>NaN</td>\n",
              "      <td>37.5</td>\n",
              "      <td>35.9</td>\n",
              "      <td>No</td>\n",
              "      <td>NaN</td>\n",
              "    </tr>\n",
              "    <tr>\n",
              "      <th>3</th>\n",
              "      <td>1/4/2012</td>\n",
              "      <td>07:53</td>\n",
              "      <td>Wednesday</td>\n",
              "      <td>GSK</td>\n",
              "      <td>49.17</td>\n",
              "      <td>132.3</td>\n",
              "      <td>74.2</td>\n",
              "      <td>82.9</td>\n",
              "      <td>NaN</td>\n",
              "      <td>39.8</td>\n",
              "      <td>35.6</td>\n",
              "      <td>No</td>\n",
              "      <td>NaN</td>\n",
              "    </tr>\n",
              "    <tr>\n",
              "      <th>4</th>\n",
              "      <td>1/3/2012</td>\n",
              "      <td>18:57</td>\n",
              "      <td>Tuesday</td>\n",
              "      <td>Home</td>\n",
              "      <td>51.15</td>\n",
              "      <td>136.2</td>\n",
              "      <td>83.4</td>\n",
              "      <td>88.1</td>\n",
              "      <td>NaN</td>\n",
              "      <td>36.8</td>\n",
              "      <td>34.8</td>\n",
              "      <td>No</td>\n",
              "      <td>NaN</td>\n",
              "    </tr>\n",
              "    <tr>\n",
              "      <th>5</th>\n",
              "      <td>1/3/2012</td>\n",
              "      <td>07:57</td>\n",
              "      <td>Tuesday</td>\n",
              "      <td>GSK</td>\n",
              "      <td>51.80</td>\n",
              "      <td>135.8</td>\n",
              "      <td>84.5</td>\n",
              "      <td>88.8</td>\n",
              "      <td>NaN</td>\n",
              "      <td>36.8</td>\n",
              "      <td>35.0</td>\n",
              "      <td>No</td>\n",
              "      <td>NaN</td>\n",
              "    </tr>\n",
              "    <tr>\n",
              "      <th>6</th>\n",
              "      <td>1/2/2012</td>\n",
              "      <td>17:31</td>\n",
              "      <td>Monday</td>\n",
              "      <td>Home</td>\n",
              "      <td>51.37</td>\n",
              "      <td>123.2</td>\n",
              "      <td>82.9</td>\n",
              "      <td>87.3</td>\n",
              "      <td>-</td>\n",
              "      <td>37.2</td>\n",
              "      <td>35.3</td>\n",
              "      <td>No</td>\n",
              "      <td>NaN</td>\n",
              "    </tr>\n",
              "    <tr>\n",
              "      <th>7</th>\n",
              "      <td>1/2/2012</td>\n",
              "      <td>07:34</td>\n",
              "      <td>Monday</td>\n",
              "      <td>GSK</td>\n",
              "      <td>49.01</td>\n",
              "      <td>128.3</td>\n",
              "      <td>77.5</td>\n",
              "      <td>85.9</td>\n",
              "      <td>-</td>\n",
              "      <td>37.9</td>\n",
              "      <td>34.3</td>\n",
              "      <td>No</td>\n",
              "      <td>NaN</td>\n",
              "    </tr>\n",
              "    <tr>\n",
              "      <th>8</th>\n",
              "      <td>12/23/2011</td>\n",
              "      <td>08:01</td>\n",
              "      <td>Friday</td>\n",
              "      <td>GSK</td>\n",
              "      <td>52.91</td>\n",
              "      <td>130.3</td>\n",
              "      <td>80.9</td>\n",
              "      <td>88.3</td>\n",
              "      <td>8.89</td>\n",
              "      <td>39.3</td>\n",
              "      <td>36.0</td>\n",
              "      <td>No</td>\n",
              "      <td>NaN</td>\n",
              "    </tr>\n",
              "    <tr>\n",
              "      <th>9</th>\n",
              "      <td>12/22/2011</td>\n",
              "      <td>17:19</td>\n",
              "      <td>Thursday</td>\n",
              "      <td>Home</td>\n",
              "      <td>51.17</td>\n",
              "      <td>122.3</td>\n",
              "      <td>70.6</td>\n",
              "      <td>78.1</td>\n",
              "      <td>8.89</td>\n",
              "      <td>43.5</td>\n",
              "      <td>39.3</td>\n",
              "      <td>No</td>\n",
              "      <td>NaN</td>\n",
              "    </tr>\n",
              "    <tr>\n",
              "      <th>10</th>\n",
              "      <td>12/22/2011</td>\n",
              "      <td>08:16</td>\n",
              "      <td>Thursday</td>\n",
              "      <td>GSK</td>\n",
              "      <td>49.15</td>\n",
              "      <td>129.4</td>\n",
              "      <td>74.0</td>\n",
              "      <td>81.4</td>\n",
              "      <td>8.89</td>\n",
              "      <td>39.8</td>\n",
              "      <td>36.2</td>\n",
              "      <td>No</td>\n",
              "      <td>NaN</td>\n",
              "    </tr>\n",
              "    <tr>\n",
              "      <th>11</th>\n",
              "      <td>12/21/2011</td>\n",
              "      <td>07:45</td>\n",
              "      <td>Wednesday</td>\n",
              "      <td>GSK</td>\n",
              "      <td>51.77</td>\n",
              "      <td>124.8</td>\n",
              "      <td>71.7</td>\n",
              "      <td>78.9</td>\n",
              "      <td>8.89</td>\n",
              "      <td>43.3</td>\n",
              "      <td>39.4</td>\n",
              "      <td>No</td>\n",
              "      <td>NaN</td>\n",
              "    </tr>\n",
              "    <tr>\n",
              "      <th>12</th>\n",
              "      <td>12/20/2011</td>\n",
              "      <td>16:05</td>\n",
              "      <td>Tuesday</td>\n",
              "      <td>Home</td>\n",
              "      <td>51.45</td>\n",
              "      <td>130.1</td>\n",
              "      <td>75.2</td>\n",
              "      <td>82.7</td>\n",
              "      <td>8.89</td>\n",
              "      <td>41.1</td>\n",
              "      <td>37.3</td>\n",
              "      <td>No</td>\n",
              "      <td>NaN</td>\n",
              "    </tr>\n",
              "    <tr>\n",
              "      <th>13</th>\n",
              "      <td>12/20/2011</td>\n",
              "      <td>06:04</td>\n",
              "      <td>Tuesday</td>\n",
              "      <td>GSK</td>\n",
              "      <td>49.01</td>\n",
              "      <td>119.0</td>\n",
              "      <td>77.4</td>\n",
              "      <td>82.0</td>\n",
              "      <td>8.89</td>\n",
              "      <td>38.0</td>\n",
              "      <td>35.9</td>\n",
              "      <td>No</td>\n",
              "      <td>NaN</td>\n",
              "    </tr>\n",
              "    <tr>\n",
              "      <th>14</th>\n",
              "      <td>12/19/2011</td>\n",
              "      <td>16:18</td>\n",
              "      <td>Monday</td>\n",
              "      <td>Home</td>\n",
              "      <td>51.04</td>\n",
              "      <td>132.2</td>\n",
              "      <td>77.5</td>\n",
              "      <td>83.5</td>\n",
              "      <td>8.89</td>\n",
              "      <td>39.5</td>\n",
              "      <td>36.7</td>\n",
              "      <td>No</td>\n",
              "      <td>NaN</td>\n",
              "    </tr>\n",
              "  </tbody>\n",
              "</table>\n",
              "</div>"
            ],
            "text/plain": [
              "          Date StartTime  DayOfWeek GoingTo  Distance  MaxSpeed  AvgSpeed  \\\n",
              "0     1/6/2012     16:37     Friday    Home     51.29     127.4      78.3   \n",
              "1     1/6/2012     08:20     Friday     GSK     51.63     130.3      81.8   \n",
              "2     1/4/2012     16:17  Wednesday    Home     51.27     127.4      82.0   \n",
              "3     1/4/2012     07:53  Wednesday     GSK     49.17     132.3      74.2   \n",
              "4     1/3/2012     18:57    Tuesday    Home     51.15     136.2      83.4   \n",
              "5     1/3/2012     07:57    Tuesday     GSK     51.80     135.8      84.5   \n",
              "6     1/2/2012     17:31     Monday    Home     51.37     123.2      82.9   \n",
              "7     1/2/2012     07:34     Monday     GSK     49.01     128.3      77.5   \n",
              "8   12/23/2011     08:01     Friday     GSK     52.91     130.3      80.9   \n",
              "9   12/22/2011     17:19   Thursday    Home     51.17     122.3      70.6   \n",
              "10  12/22/2011     08:16   Thursday     GSK     49.15     129.4      74.0   \n",
              "11  12/21/2011     07:45  Wednesday     GSK     51.77     124.8      71.7   \n",
              "12  12/20/2011     16:05    Tuesday    Home     51.45     130.1      75.2   \n",
              "13  12/20/2011     06:04    Tuesday     GSK     49.01     119.0      77.4   \n",
              "14  12/19/2011     16:18     Monday    Home     51.04     132.2      77.5   \n",
              "\n",
              "    AvgMovingSpeed FuelEconomy  TotalTime  MovingTime Take407All Comments  \n",
              "0             84.8         NaN       39.3        36.3         No      NaN  \n",
              "1             88.9         NaN       37.9        34.9         No      NaN  \n",
              "2             85.8         NaN       37.5        35.9         No      NaN  \n",
              "3             82.9         NaN       39.8        35.6         No      NaN  \n",
              "4             88.1         NaN       36.8        34.8         No      NaN  \n",
              "5             88.8         NaN       36.8        35.0         No      NaN  \n",
              "6             87.3           -       37.2        35.3         No      NaN  \n",
              "7             85.9           -       37.9        34.3         No      NaN  \n",
              "8             88.3        8.89       39.3        36.0         No      NaN  \n",
              "9             78.1        8.89       43.5        39.3         No      NaN  \n",
              "10            81.4        8.89       39.8        36.2         No      NaN  \n",
              "11            78.9        8.89       43.3        39.4         No      NaN  \n",
              "12            82.7        8.89       41.1        37.3         No      NaN  \n",
              "13            82.0        8.89       38.0        35.9         No      NaN  \n",
              "14            83.5        8.89       39.5        36.7         No      NaN  "
            ]
          },
          "execution_count": 4,
          "metadata": {},
          "output_type": "execute_result"
        }
      ],
      "source": [
        "df.head(15)"
      ]
    },
    {
      "cell_type": "code",
      "execution_count": 5,
      "id": "oCF3yQVwZ7Wk",
      "metadata": {
        "id": "oCF3yQVwZ7Wk"
      },
      "outputs": [
        {
          "name": "stdout",
          "output_type": "stream",
          "text": [
            "<class 'pandas.core.frame.DataFrame'>\n",
            "RangeIndex: 205 entries, 0 to 204\n",
            "Data columns (total 13 columns):\n",
            " #   Column          Non-Null Count  Dtype  \n",
            "---  ------          --------------  -----  \n",
            " 0   Date            205 non-null    object \n",
            " 1   StartTime       205 non-null    object \n",
            " 2   DayOfWeek       205 non-null    object \n",
            " 3   GoingTo         205 non-null    object \n",
            " 4   Distance        205 non-null    float64\n",
            " 5   MaxSpeed        205 non-null    float64\n",
            " 6   AvgSpeed        205 non-null    float64\n",
            " 7   AvgMovingSpeed  205 non-null    float64\n",
            " 8   FuelEconomy     188 non-null    object \n",
            " 9   TotalTime       205 non-null    float64\n",
            " 10  MovingTime      205 non-null    float64\n",
            " 11  Take407All      205 non-null    object \n",
            " 12  Comments        24 non-null     object \n",
            "dtypes: float64(6), object(7)\n",
            "memory usage: 20.9+ KB\n"
          ]
        }
      ],
      "source": [
        "df.info()"
      ]
    },
    {
      "cell_type": "code",
      "execution_count": 6,
      "id": "JS67PiahaofK",
      "metadata": {
        "id": "JS67PiahaofK"
      },
      "outputs": [],
      "source": [
        "df.drop_duplicates(inplace=True)"
      ]
    },
    {
      "cell_type": "code",
      "execution_count": 7,
      "id": "c3pJnUbQcAvl",
      "metadata": {
        "id": "c3pJnUbQcAvl"
      },
      "outputs": [
        {
          "data": {
            "text/plain": [
              "Date                0\n",
              "StartTime           0\n",
              "DayOfWeek           0\n",
              "GoingTo             0\n",
              "Distance            0\n",
              "MaxSpeed            0\n",
              "AvgSpeed            0\n",
              "AvgMovingSpeed      0\n",
              "FuelEconomy        17\n",
              "TotalTime           0\n",
              "MovingTime          0\n",
              "Take407All          0\n",
              "Comments          181\n",
              "dtype: int64"
            ]
          },
          "execution_count": 7,
          "metadata": {},
          "output_type": "execute_result"
        }
      ],
      "source": [
        "df.isnull().sum()"
      ]
    },
    {
      "cell_type": "code",
      "execution_count": 8,
      "id": "uEI1Yny-c4LJ",
      "metadata": {
        "id": "uEI1Yny-c4LJ"
      },
      "outputs": [
        {
          "data": {
            "text/plain": [
              "(205, 11)"
            ]
          },
          "execution_count": 8,
          "metadata": {},
          "output_type": "execute_result"
        }
      ],
      "source": [
        "df1=df.copy()\n",
        "df2=df.copy()\n",
        "df1.dropna(inplace=True) #drops rows that has at least one missing value\n",
        "df1.shape\n",
        "df2.dropna(axis=1,inplace=True)\n",
        "df2.shape"
      ]
    },
    {
      "cell_type": "code",
      "execution_count": 9,
      "id": "st2HXckKeknS",
      "metadata": {
        "id": "st2HXckKeknS"
      },
      "outputs": [
        {
          "data": {
            "text/html": [
              "<div>\n",
              "<style scoped>\n",
              "    .dataframe tbody tr th:only-of-type {\n",
              "        vertical-align: middle;\n",
              "    }\n",
              "\n",
              "    .dataframe tbody tr th {\n",
              "        vertical-align: top;\n",
              "    }\n",
              "\n",
              "    .dataframe thead th {\n",
              "        text-align: right;\n",
              "    }\n",
              "</style>\n",
              "<table border=\"1\" class=\"dataframe\">\n",
              "  <thead>\n",
              "    <tr style=\"text-align: right;\">\n",
              "      <th></th>\n",
              "      <th>Distance</th>\n",
              "      <th>MaxSpeed</th>\n",
              "      <th>AvgSpeed</th>\n",
              "      <th>AvgMovingSpeed</th>\n",
              "      <th>TotalTime</th>\n",
              "      <th>MovingTime</th>\n",
              "    </tr>\n",
              "  </thead>\n",
              "  <tbody>\n",
              "    <tr>\n",
              "      <th>count</th>\n",
              "      <td>205.000000</td>\n",
              "      <td>205.000000</td>\n",
              "      <td>205.000000</td>\n",
              "      <td>205.000000</td>\n",
              "      <td>205.000000</td>\n",
              "      <td>205.000000</td>\n",
              "    </tr>\n",
              "    <tr>\n",
              "      <th>mean</th>\n",
              "      <td>50.981512</td>\n",
              "      <td>127.591707</td>\n",
              "      <td>74.477561</td>\n",
              "      <td>81.975610</td>\n",
              "      <td>41.904390</td>\n",
              "      <td>37.871707</td>\n",
              "    </tr>\n",
              "    <tr>\n",
              "      <th>std</th>\n",
              "      <td>1.321205</td>\n",
              "      <td>4.128450</td>\n",
              "      <td>11.409816</td>\n",
              "      <td>10.111544</td>\n",
              "      <td>6.849476</td>\n",
              "      <td>4.835072</td>\n",
              "    </tr>\n",
              "    <tr>\n",
              "      <th>min</th>\n",
              "      <td>48.320000</td>\n",
              "      <td>112.200000</td>\n",
              "      <td>38.100000</td>\n",
              "      <td>50.300000</td>\n",
              "      <td>28.200000</td>\n",
              "      <td>27.100000</td>\n",
              "    </tr>\n",
              "    <tr>\n",
              "      <th>25%</th>\n",
              "      <td>50.650000</td>\n",
              "      <td>124.900000</td>\n",
              "      <td>68.900000</td>\n",
              "      <td>76.600000</td>\n",
              "      <td>38.400000</td>\n",
              "      <td>35.700000</td>\n",
              "    </tr>\n",
              "    <tr>\n",
              "      <th>50%</th>\n",
              "      <td>51.140000</td>\n",
              "      <td>127.400000</td>\n",
              "      <td>73.600000</td>\n",
              "      <td>81.400000</td>\n",
              "      <td>41.300000</td>\n",
              "      <td>37.600000</td>\n",
              "    </tr>\n",
              "    <tr>\n",
              "      <th>75%</th>\n",
              "      <td>51.630000</td>\n",
              "      <td>129.800000</td>\n",
              "      <td>79.900000</td>\n",
              "      <td>86.000000</td>\n",
              "      <td>44.400000</td>\n",
              "      <td>39.900000</td>\n",
              "    </tr>\n",
              "    <tr>\n",
              "      <th>max</th>\n",
              "      <td>60.320000</td>\n",
              "      <td>140.900000</td>\n",
              "      <td>107.700000</td>\n",
              "      <td>112.100000</td>\n",
              "      <td>82.300000</td>\n",
              "      <td>62.400000</td>\n",
              "    </tr>\n",
              "  </tbody>\n",
              "</table>\n",
              "</div>"
            ],
            "text/plain": [
              "         Distance    MaxSpeed    AvgSpeed  AvgMovingSpeed   TotalTime  \\\n",
              "count  205.000000  205.000000  205.000000      205.000000  205.000000   \n",
              "mean    50.981512  127.591707   74.477561       81.975610   41.904390   \n",
              "std      1.321205    4.128450   11.409816       10.111544    6.849476   \n",
              "min     48.320000  112.200000   38.100000       50.300000   28.200000   \n",
              "25%     50.650000  124.900000   68.900000       76.600000   38.400000   \n",
              "50%     51.140000  127.400000   73.600000       81.400000   41.300000   \n",
              "75%     51.630000  129.800000   79.900000       86.000000   44.400000   \n",
              "max     60.320000  140.900000  107.700000      112.100000   82.300000   \n",
              "\n",
              "       MovingTime  \n",
              "count  205.000000  \n",
              "mean    37.871707  \n",
              "std      4.835072  \n",
              "min     27.100000  \n",
              "25%     35.700000  \n",
              "50%     37.600000  \n",
              "75%     39.900000  \n",
              "max     62.400000  "
            ]
          },
          "execution_count": 9,
          "metadata": {},
          "output_type": "execute_result"
        }
      ],
      "source": [
        "df.describe()"
      ]
    },
    {
      "cell_type": "code",
      "execution_count": 10,
      "id": "iJzpmLZJfSir",
      "metadata": {
        "id": "iJzpmLZJfSir"
      },
      "outputs": [
        {
          "data": {
            "text/html": [
              "<div>\n",
              "<style scoped>\n",
              "    .dataframe tbody tr th:only-of-type {\n",
              "        vertical-align: middle;\n",
              "    }\n",
              "\n",
              "    .dataframe tbody tr th {\n",
              "        vertical-align: top;\n",
              "    }\n",
              "\n",
              "    .dataframe thead th {\n",
              "        text-align: right;\n",
              "    }\n",
              "</style>\n",
              "<table border=\"1\" class=\"dataframe\">\n",
              "  <thead>\n",
              "    <tr style=\"text-align: right;\">\n",
              "      <th></th>\n",
              "      <th>Distance</th>\n",
              "      <th>MaxSpeed</th>\n",
              "      <th>AvgSpeed</th>\n",
              "      <th>AvgMovingSpeed</th>\n",
              "      <th>TotalTime</th>\n",
              "      <th>MovingTime</th>\n",
              "    </tr>\n",
              "  </thead>\n",
              "  <tbody>\n",
              "    <tr>\n",
              "      <th>Distance</th>\n",
              "      <td>1.000000</td>\n",
              "      <td>0.145091</td>\n",
              "      <td>-0.006445</td>\n",
              "      <td>0.011874</td>\n",
              "      <td>0.197207</td>\n",
              "      <td>0.197044</td>\n",
              "    </tr>\n",
              "    <tr>\n",
              "      <th>MaxSpeed</th>\n",
              "      <td>0.145091</td>\n",
              "      <td>1.000000</td>\n",
              "      <td>0.253869</td>\n",
              "      <td>0.257823</td>\n",
              "      <td>-0.198775</td>\n",
              "      <td>-0.222574</td>\n",
              "    </tr>\n",
              "    <tr>\n",
              "      <th>AvgSpeed</th>\n",
              "      <td>-0.006445</td>\n",
              "      <td>0.253869</td>\n",
              "      <td>1.000000</td>\n",
              "      <td>0.872143</td>\n",
              "      <td>-0.877806</td>\n",
              "      <td>-0.835814</td>\n",
              "    </tr>\n",
              "    <tr>\n",
              "      <th>AvgMovingSpeed</th>\n",
              "      <td>0.011874</td>\n",
              "      <td>0.257823</td>\n",
              "      <td>0.872143</td>\n",
              "      <td>1.000000</td>\n",
              "      <td>-0.856986</td>\n",
              "      <td>-0.944433</td>\n",
              "    </tr>\n",
              "    <tr>\n",
              "      <th>TotalTime</th>\n",
              "      <td>0.197207</td>\n",
              "      <td>-0.198775</td>\n",
              "      <td>-0.877806</td>\n",
              "      <td>-0.856986</td>\n",
              "      <td>1.000000</td>\n",
              "      <td>0.920935</td>\n",
              "    </tr>\n",
              "    <tr>\n",
              "      <th>MovingTime</th>\n",
              "      <td>0.197044</td>\n",
              "      <td>-0.222574</td>\n",
              "      <td>-0.835814</td>\n",
              "      <td>-0.944433</td>\n",
              "      <td>0.920935</td>\n",
              "      <td>1.000000</td>\n",
              "    </tr>\n",
              "  </tbody>\n",
              "</table>\n",
              "</div>"
            ],
            "text/plain": [
              "                Distance  MaxSpeed  AvgSpeed  AvgMovingSpeed  TotalTime  \\\n",
              "Distance        1.000000  0.145091 -0.006445        0.011874   0.197207   \n",
              "MaxSpeed        0.145091  1.000000  0.253869        0.257823  -0.198775   \n",
              "AvgSpeed       -0.006445  0.253869  1.000000        0.872143  -0.877806   \n",
              "AvgMovingSpeed  0.011874  0.257823  0.872143        1.000000  -0.856986   \n",
              "TotalTime       0.197207 -0.198775 -0.877806       -0.856986   1.000000   \n",
              "MovingTime      0.197044 -0.222574 -0.835814       -0.944433   0.920935   \n",
              "\n",
              "                MovingTime  \n",
              "Distance          0.197044  \n",
              "MaxSpeed         -0.222574  \n",
              "AvgSpeed         -0.835814  \n",
              "AvgMovingSpeed   -0.944433  \n",
              "TotalTime         0.920935  \n",
              "MovingTime        1.000000  "
            ]
          },
          "execution_count": 10,
          "metadata": {},
          "output_type": "execute_result"
        }
      ],
      "source": [
        "df.select_dtypes(exclude='object').corr()"
      ]
    },
    {
      "cell_type": "code",
      "execution_count": 11,
      "id": "n6riIVa_gQHX",
      "metadata": {
        "colab": {
          "base_uri": "https://localhost:8080/",
          "height": 175
        },
        "id": "n6riIVa_gQHX",
        "outputId": "683bd67c-f339-47cb-f620-06e2e1f16d20"
      },
      "outputs": [
        {
          "data": {
            "text/html": [
              "<div>\n",
              "<style scoped>\n",
              "    .dataframe tbody tr th:only-of-type {\n",
              "        vertical-align: middle;\n",
              "    }\n",
              "\n",
              "    .dataframe tbody tr th {\n",
              "        vertical-align: top;\n",
              "    }\n",
              "\n",
              "    .dataframe thead th {\n",
              "        text-align: right;\n",
              "    }\n",
              "</style>\n",
              "<table border=\"1\" class=\"dataframe\">\n",
              "  <thead>\n",
              "    <tr style=\"text-align: right;\">\n",
              "      <th></th>\n",
              "      <th>Date</th>\n",
              "      <th>StartTime</th>\n",
              "      <th>DayOfWeek</th>\n",
              "      <th>GoingTo</th>\n",
              "      <th>Distance</th>\n",
              "      <th>MaxSpeed</th>\n",
              "      <th>AvgSpeed</th>\n",
              "      <th>AvgMovingSpeed</th>\n",
              "      <th>FuelEconomy</th>\n",
              "      <th>TotalTime</th>\n",
              "      <th>MovingTime</th>\n",
              "      <th>Take407All</th>\n",
              "      <th>Comments</th>\n",
              "    </tr>\n",
              "  </thead>\n",
              "  <tbody>\n",
              "    <tr>\n",
              "      <th>10</th>\n",
              "      <td>12/22/2011</td>\n",
              "      <td>08:16</td>\n",
              "      <td>Thursday</td>\n",
              "      <td>GSK</td>\n",
              "      <td>49.15</td>\n",
              "      <td>129.4</td>\n",
              "      <td>74.0</td>\n",
              "      <td>81.4</td>\n",
              "      <td>8.89</td>\n",
              "      <td>39.8</td>\n",
              "      <td>36.2</td>\n",
              "      <td>No</td>\n",
              "      <td>NaN</td>\n",
              "    </tr>\n",
              "    <tr>\n",
              "      <th>11</th>\n",
              "      <td>12/21/2011</td>\n",
              "      <td>07:45</td>\n",
              "      <td>Wednesday</td>\n",
              "      <td>GSK</td>\n",
              "      <td>51.77</td>\n",
              "      <td>124.8</td>\n",
              "      <td>71.7</td>\n",
              "      <td>78.9</td>\n",
              "      <td>8.89</td>\n",
              "      <td>43.3</td>\n",
              "      <td>39.4</td>\n",
              "      <td>No</td>\n",
              "      <td>NaN</td>\n",
              "    </tr>\n",
              "    <tr>\n",
              "      <th>12</th>\n",
              "      <td>12/20/2011</td>\n",
              "      <td>16:05</td>\n",
              "      <td>Tuesday</td>\n",
              "      <td>Home</td>\n",
              "      <td>51.45</td>\n",
              "      <td>130.1</td>\n",
              "      <td>75.2</td>\n",
              "      <td>82.7</td>\n",
              "      <td>8.89</td>\n",
              "      <td>41.1</td>\n",
              "      <td>37.3</td>\n",
              "      <td>No</td>\n",
              "      <td>NaN</td>\n",
              "    </tr>\n",
              "    <tr>\n",
              "      <th>13</th>\n",
              "      <td>12/20/2011</td>\n",
              "      <td>06:04</td>\n",
              "      <td>Tuesday</td>\n",
              "      <td>GSK</td>\n",
              "      <td>49.01</td>\n",
              "      <td>119.0</td>\n",
              "      <td>77.4</td>\n",
              "      <td>82.0</td>\n",
              "      <td>8.89</td>\n",
              "      <td>38.0</td>\n",
              "      <td>35.9</td>\n",
              "      <td>No</td>\n",
              "      <td>NaN</td>\n",
              "    </tr>\n",
              "  </tbody>\n",
              "</table>\n",
              "</div>"
            ],
            "text/plain": [
              "          Date StartTime  DayOfWeek GoingTo  Distance  MaxSpeed  AvgSpeed  \\\n",
              "10  12/22/2011     08:16   Thursday     GSK     49.15     129.4      74.0   \n",
              "11  12/21/2011     07:45  Wednesday     GSK     51.77     124.8      71.7   \n",
              "12  12/20/2011     16:05    Tuesday    Home     51.45     130.1      75.2   \n",
              "13  12/20/2011     06:04    Tuesday     GSK     49.01     119.0      77.4   \n",
              "\n",
              "    AvgMovingSpeed FuelEconomy  TotalTime  MovingTime Take407All Comments  \n",
              "10            81.4        8.89       39.8        36.2         No      NaN  \n",
              "11            78.9        8.89       43.3        39.4         No      NaN  \n",
              "12            82.7        8.89       41.1        37.3         No      NaN  \n",
              "13            82.0        8.89       38.0        35.9         No      NaN  "
            ]
          },
          "execution_count": 11,
          "metadata": {},
          "output_type": "execute_result"
        }
      ],
      "source": [
        "df.iloc[10:14]"
      ]
    },
    {
      "cell_type": "code",
      "execution_count": 12,
      "id": "soqbVB8PgmBD",
      "metadata": {
        "id": "soqbVB8PgmBD"
      },
      "outputs": [
        {
          "data": {
            "text/html": [
              "<div>\n",
              "<style scoped>\n",
              "    .dataframe tbody tr th:only-of-type {\n",
              "        vertical-align: middle;\n",
              "    }\n",
              "\n",
              "    .dataframe tbody tr th {\n",
              "        vertical-align: top;\n",
              "    }\n",
              "\n",
              "    .dataframe thead th {\n",
              "        text-align: right;\n",
              "    }\n",
              "</style>\n",
              "<table border=\"1\" class=\"dataframe\">\n",
              "  <thead>\n",
              "    <tr style=\"text-align: right;\">\n",
              "      <th></th>\n",
              "      <th>Date</th>\n",
              "      <th>StartTime</th>\n",
              "      <th>DayOfWeek</th>\n",
              "      <th>GoingTo</th>\n",
              "      <th>Distance</th>\n",
              "      <th>MaxSpeed</th>\n",
              "      <th>AvgSpeed</th>\n",
              "      <th>AvgMovingSpeed</th>\n",
              "      <th>FuelEconomy</th>\n",
              "      <th>TotalTime</th>\n",
              "      <th>MovingTime</th>\n",
              "      <th>Take407All</th>\n",
              "      <th>Comments</th>\n",
              "    </tr>\n",
              "  </thead>\n",
              "  <tbody>\n",
              "    <tr>\n",
              "      <th>44</th>\n",
              "      <td>11/23/2011</td>\n",
              "      <td>16:17</td>\n",
              "      <td>Wednesday</td>\n",
              "      <td>Home</td>\n",
              "      <td>60.32</td>\n",
              "      <td>129.4</td>\n",
              "      <td>68.9</td>\n",
              "      <td>74.6</td>\n",
              "      <td>9.3</td>\n",
              "      <td>52.5</td>\n",
              "      <td>48.5</td>\n",
              "      <td>No</td>\n",
              "      <td>NaN</td>\n",
              "    </tr>\n",
              "    <tr>\n",
              "      <th>45</th>\n",
              "      <td>11/23/2011</td>\n",
              "      <td>07:22</td>\n",
              "      <td>Wednesday</td>\n",
              "      <td>GSK</td>\n",
              "      <td>51.60</td>\n",
              "      <td>126.4</td>\n",
              "      <td>67.3</td>\n",
              "      <td>73.6</td>\n",
              "      <td>9.3</td>\n",
              "      <td>46.0</td>\n",
              "      <td>42.1</td>\n",
              "      <td>No</td>\n",
              "      <td>NaN</td>\n",
              "    </tr>\n",
              "  </tbody>\n",
              "</table>\n",
              "</div>"
            ],
            "text/plain": [
              "          Date StartTime  DayOfWeek GoingTo  Distance  MaxSpeed  AvgSpeed  \\\n",
              "44  11/23/2011     16:17  Wednesday    Home     60.32     129.4      68.9   \n",
              "45  11/23/2011     07:22  Wednesday     GSK     51.60     126.4      67.3   \n",
              "\n",
              "    AvgMovingSpeed FuelEconomy  TotalTime  MovingTime Take407All Comments  \n",
              "44            74.6         9.3       52.5        48.5         No      NaN  \n",
              "45            73.6         9.3       46.0        42.1         No      NaN  "
            ]
          },
          "execution_count": 12,
          "metadata": {},
          "output_type": "execute_result"
        }
      ],
      "source": [
        "df[df['Date']=='11/23/2011']"
      ]
    },
    {
      "cell_type": "code",
      "execution_count": 13,
      "id": "CYJYpt7Eg661",
      "metadata": {
        "id": "CYJYpt7Eg661"
      },
      "outputs": [
        {
          "data": {
            "text/html": [
              "<div>\n",
              "<style scoped>\n",
              "    .dataframe tbody tr th:only-of-type {\n",
              "        vertical-align: middle;\n",
              "    }\n",
              "\n",
              "    .dataframe tbody tr th {\n",
              "        vertical-align: top;\n",
              "    }\n",
              "\n",
              "    .dataframe thead th {\n",
              "        text-align: right;\n",
              "    }\n",
              "</style>\n",
              "<table border=\"1\" class=\"dataframe\">\n",
              "  <thead>\n",
              "    <tr style=\"text-align: right;\">\n",
              "      <th></th>\n",
              "      <th>Date</th>\n",
              "      <th>StartTime</th>\n",
              "      <th>DayOfWeek</th>\n",
              "      <th>GoingTo</th>\n",
              "      <th>Distance</th>\n",
              "      <th>MaxSpeed</th>\n",
              "      <th>AvgSpeed</th>\n",
              "      <th>AvgMovingSpeed</th>\n",
              "      <th>FuelEconomy</th>\n",
              "      <th>TotalTime</th>\n",
              "      <th>MovingTime</th>\n",
              "      <th>Take407All</th>\n",
              "      <th>Comments</th>\n",
              "    </tr>\n",
              "  </thead>\n",
              "  <tbody>\n",
              "  </tbody>\n",
              "</table>\n",
              "</div>"
            ],
            "text/plain": [
              "Empty DataFrame\n",
              "Columns: [Date, StartTime, DayOfWeek, GoingTo, Distance, MaxSpeed, AvgSpeed, AvgMovingSpeed, FuelEconomy, TotalTime, MovingTime, Take407All, Comments]\n",
              "Index: []"
            ]
          },
          "execution_count": 13,
          "metadata": {},
          "output_type": "execute_result"
        }
      ],
      "source": [
        "df[df['Date']=='01/06/2012']"
      ]
    },
    {
      "cell_type": "code",
      "execution_count": 14,
      "id": "vRgwJC41hOr0",
      "metadata": {
        "id": "vRgwJC41hOr0"
      },
      "outputs": [
        {
          "data": {
            "text/plain": [
              "<Axes: xlabel='Distance', ylabel='TotalTime'>"
            ]
          },
          "execution_count": 14,
          "metadata": {},
          "output_type": "execute_result"
        },
        {
          "data": {
            "image/png": "[encoded data removed]",
            "text/plain": [
              "<Figure size 1000x800 with 1 Axes>"
            ]
          },
          "metadata": {},
          "output_type": "display_data"
        }
      ],
      "source": [
        "df.plot(kind='scatter',x='Distance',y='TotalTime')"
      ]
    },
    {
      "cell_type": "code",
      "execution_count": 15,
      "id": "1_DKBS-dhexO",
      "metadata": {
        "id": "1_DKBS-dhexO"
      },
      "outputs": [
        {
          "data": {
            "text/plain": [
              "<Axes: >"
            ]
          },
          "execution_count": 15,
          "metadata": {},
          "output_type": "execute_result"
        },
        {
          "data": {
            "image/png": "[encoded data removed]",
            "text/plain": [
              "<Figure size 1000x800 with 1 Axes>"
            ]
          },
          "metadata": {},
          "output_type": "display_data"
        }
      ],
      "source": [
        "df['AvgSpeed'].plot(kind='box')"
      ]
    },
    {
      "cell_type": "code",
      "execution_count": 16,
      "id": "UD68O-e7hpRS",
      "metadata": {
        "id": "UD68O-e7hpRS"
      },
      "outputs": [
        {
          "data": {
            "text/plain": [
              "<Axes: >"
            ]
          },
          "execution_count": 16,
          "metadata": {},
          "output_type": "execute_result"
        },
        {
          "data": {
            "image/png": "[encoded data removed]",
            "text/plain": [
              "<Figure size 1000x800 with 1 Axes>"
            ]
          },
          "metadata": {},
          "output_type": "display_data"
        }
      ],
      "source": [
        "df['AvgMovingSpeed'].plot(kind='box')"
      ]
    }
  ],
  "metadata": {
    "colab": {
      "provenance": []
    },
    "kernelspec": {
      "display_name": "Python 3 (ipykernel)",
      "language": "python",
      "name": "python3"
    },
    "language_info": {
      "codemirror_mode": {
        "name": "ipython",
        "version": 3
      },
      "file_extension": ".py",
      "mimetype": "text/x-python",
      "name": "python",
      "nbconvert_exporter": "python",
      "pygments_lexer": "ipython3",
      "version": "3.9.6"
    }
  },
  "nbformat": 4,
  "nbformat_minor": 5
}
