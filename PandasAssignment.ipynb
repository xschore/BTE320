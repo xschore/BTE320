{
  "cells": [
    {
      "cell_type": "markdown",
      "id": "64d7f59f-248f-4fc8-9597-e1f3b35a9b98",
      "metadata": {
        "id": "64d7f59f-248f-4fc8-9597-e1f3b35a9b98"
      },
      "source": [
        "## Data Analysis assignment (20 points)\n",
        "\n",
        "You have been given the dataset `travel-times` in a CSV format. This dataset comes from a driver that uses an app to track GPS coordinates as he drives to work and back each day. The app collects the location and elevation data. In total, data for about 200 trips are summarized in this data set.\n",
        "\n",
        "Load the `travel-times` in a `df` variable using `pandas` and then perform the following:\n",
        "- print the shape of the dataset **(1 points)**\n",
        "- print the first 15 rows of the dataset **(1 points)**\n",
        "- get information for the features (columns) with missing values **(1 points)**\n",
        "- drop duplicate values (if any) by keeping only the last instance **(1 points)**\n",
        "- calculate the total number of missing values (if any) on each column **(2 points)**\n",
        "- create two copies of the dataframe, and then:\n",
        "    - drop rows with missing values from the 1st copy **(1 points)**\n",
        "    - drop columns with missing values from the 2nd copy **(1 points)**\n",
        "- get summary statistics and see the correlation between the numerical columns **(1 points)**\n",
        "- show rows 11 to 14 **(1 points)**\n",
        "- create a subset with trips occurred on November 23, 2011 and January 6, 2012 **(2 points)**\n",
        "- produce a scatterplot between `Distance` and `TotalTime` **(1 points)**\n",
        "    * Use:\n",
        "```python\n",
        "import matplotlib.pyplot as plt\n",
        "plt.rcParams.update({'font.size': 20, 'figure.figsize': (10, 8)})\n",
        "```\n",
        "- produce boxplots for `AvgSpeed` and `AvgMovingSpeed` (use different cells for each) **(2 points)**"
      ]
    },
    {
      "cell_type": "code",
      "execution_count": null,
      "id": "3a276345-b8ef-419f-b55a-660d02d6279c",
      "metadata": {
        "id": "3a276345-b8ef-419f-b55a-660d02d6279c"
      },
      "outputs": [],
      "source": [
        "import matplotlib.pyplot as plt\n",
        "import pandas as pd\n",
        "\n",
        "plt.rcParams.update({'font.size': 20, 'figure.figsize': (10, 8)})"
      ]
    },
    {
      "cell_type": "code",
      "source": [
        "df=pd.read_csv('travel-times.csv')"
      ],
      "metadata": {
        "id": "YfjXyWFmYNA6"
      },
      "id": "YfjXyWFmYNA6",
      "execution_count": null,
      "outputs": []
    },
    {
      "cell_type": "code",
      "source": [
        "df.shape"
      ],
      "metadata": {
        "id": "FRH-W1qgZcBq"
      },
      "id": "FRH-W1qgZcBq",
      "execution_count": null,
      "outputs": []
    },
    {
      "cell_type": "code",
      "source": [
        "df.head(15)"
      ],
      "metadata": {
        "id": "S40XD4uiZgzS"
      },
      "id": "S40XD4uiZgzS",
      "execution_count": null,
      "outputs": []
    },
    {
      "cell_type": "code",
      "source": [
        "df.info()"
      ],
      "metadata": {
        "id": "oCF3yQVwZ7Wk"
      },
      "id": "oCF3yQVwZ7Wk",
      "execution_count": null,
      "outputs": []
    },
    {
      "cell_type": "code",
      "source": [
        "df.drop_duplicates(inplace=True)"
      ],
      "metadata": {
        "id": "JS67PiahaofK"
      },
      "id": "JS67PiahaofK",
      "execution_count": null,
      "outputs": []
    },
    {
      "cell_type": "code",
      "source": [
        "df.isnull().sum()"
      ],
      "metadata": {
        "id": "c3pJnUbQcAvl"
      },
      "id": "c3pJnUbQcAvl",
      "execution_count": null,
      "outputs": []
    },
    {
      "cell_type": "code",
      "source": [
        "df1=df.copy()\n",
        "df2=df.copy()\n",
        "df1.dropna(inplace=True) #drops rows that has at least one missing value\n",
        "df1.shape\n",
        "df2.dropna(axis=1,inplace=True)\n",
        "df2.shape"
      ],
      "metadata": {
        "id": "uEI1Yny-c4LJ"
      },
      "id": "uEI1Yny-c4LJ",
      "execution_count": null,
      "outputs": []
    },
    {
      "cell_type": "code",
      "source": [
        "df.describe()"
      ],
      "metadata": {
        "id": "st2HXckKeknS"
      },
      "id": "st2HXckKeknS",
      "execution_count": null,
      "outputs": []
    },
    {
      "cell_type": "code",
      "source": [
        "df.select_dtypes(exclude='object').corr()"
      ],
      "metadata": {
        "id": "iJzpmLZJfSir"
      },
      "id": "iJzpmLZJfSir",
      "execution_count": null,
      "outputs": []
    },
    {
      "cell_type": "code",
      "source": [
        "df.iloc[10:14]"
      ],
      "metadata": {
        "colab": {
          "base_uri": "https://localhost:8080/",
          "height": 175
        },
        "id": "n6riIVa_gQHX",
        "outputId": "683bd67c-f339-47cb-f620-06e2e1f16d20"
      },
      "id": "n6riIVa_gQHX",
      "execution_count": null,
      "outputs": [
        {
          "output_type": "execute_result",
          "data": {
            "text/plain": [
              "          Date StartTime  DayOfWeek GoingTo  Distance  MaxSpeed  AvgSpeed  \\\n",
              "10  12/22/2011     08:16   Thursday     GSK     49.15     129.4      74.0   \n",
              "11  12/21/2011     07:45  Wednesday     GSK     51.77     124.8      71.7   \n",
              "12  12/20/2011     16:05    Tuesday    Home     51.45     130.1      75.2   \n",
              "13  12/20/2011     06:04    Tuesday     GSK     49.01     119.0      77.4   \n",
              "\n",
              "    AvgMovingSpeed FuelEconomy  TotalTime  MovingTime Take407All Comments  \n",
              "10            81.4        8.89       39.8        36.2         No      NaN  \n",
              "11            78.9        8.89       43.3        39.4         No      NaN  \n",
              "12            82.7        8.89       41.1        37.3         No      NaN  \n",
              "13            82.0        8.89       38.0        35.9         No      NaN  "
            ],
            "text/html": [
              "\n",
              "  <div id=\"df-08d1f85d-b1b4-4b4b-923d-6d57c4b1be14\" class=\"colab-df-container\">\n",
              "    <div>\n",
              "<style scoped>\n",
              "    .dataframe tbody tr th:only-of-type {\n",
              "        vertical-align: middle;\n",
              "    }\n",
              "\n",
              "    .dataframe tbody tr th {\n",
              "        vertical-align: top;\n",
              "    }\n",
              "\n",
              "    .dataframe thead th {\n",
              "        text-align: right;\n",
              "    }\n",
              "</style>\n",
              "<table border=\"1\" class=\"dataframe\">\n",
              "  <thead>\n",
              "    <tr style=\"text-align: right;\">\n",
              "      <th></th>\n",
              "      <th>Date</th>\n",
              "      <th>StartTime</th>\n",
              "      <th>DayOfWeek</th>\n",
              "      <th>GoingTo</th>\n",
              "      <th>Distance</th>\n",
              "      <th>MaxSpeed</th>\n",
              "      <th>AvgSpeed</th>\n",
              "      <th>AvgMovingSpeed</th>\n",
              "      <th>FuelEconomy</th>\n",
              "      <th>TotalTime</th>\n",
              "      <th>MovingTime</th>\n",
              "      <th>Take407All</th>\n",
              "      <th>Comments</th>\n",
              "    </tr>\n",
              "  </thead>\n",
              "  <tbody>\n",
              "    <tr>\n",
              "      <th>10</th>\n",
              "      <td>12/22/2011</td>\n",
              "      <td>08:16</td>\n",
              "      <td>Thursday</td>\n",
              "      <td>GSK</td>\n",
              "      <td>49.15</td>\n",
              "      <td>129.4</td>\n",
              "      <td>74.0</td>\n",
              "      <td>81.4</td>\n",
              "      <td>8.89</td>\n",
              "      <td>39.8</td>\n",
              "      <td>36.2</td>\n",
              "      <td>No</td>\n",
              "      <td>NaN</td>\n",
              "    </tr>\n",
              "    <tr>\n",
              "      <th>11</th>\n",
              "      <td>12/21/2011</td>\n",
              "      <td>07:45</td>\n",
              "      <td>Wednesday</td>\n",
              "      <td>GSK</td>\n",
              "      <td>51.77</td>\n",
              "      <td>124.8</td>\n",
              "      <td>71.7</td>\n",
              "      <td>78.9</td>\n",
              "      <td>8.89</td>\n",
              "      <td>43.3</td>\n",
              "      <td>39.4</td>\n",
              "      <td>No</td>\n",
              "      <td>NaN</td>\n",
              "    </tr>\n",
              "    <tr>\n",
              "      <th>12</th>\n",
              "      <td>12/20/2011</td>\n",
              "      <td>16:05</td>\n",
              "      <td>Tuesday</td>\n",
              "      <td>Home</td>\n",
              "      <td>51.45</td>\n",
              "      <td>130.1</td>\n",
              "      <td>75.2</td>\n",
              "      <td>82.7</td>\n",
              "      <td>8.89</td>\n",
              "      <td>41.1</td>\n",
              "      <td>37.3</td>\n",
              "      <td>No</td>\n",
              "      <td>NaN</td>\n",
              "    </tr>\n",
              "    <tr>\n",
              "      <th>13</th>\n",
              "      <td>12/20/2011</td>\n",
              "      <td>06:04</td>\n",
              "      <td>Tuesday</td>\n",
              "      <td>GSK</td>\n",
              "      <td>49.01</td>\n",
              "      <td>119.0</td>\n",
              "      <td>77.4</td>\n",
              "      <td>82.0</td>\n",
              "      <td>8.89</td>\n",
              "      <td>38.0</td>\n",
              "      <td>35.9</td>\n",
              "      <td>No</td>\n",
              "      <td>NaN</td>\n",
              "    </tr>\n",
              "  </tbody>\n",
              "</table>\n",
              "</div>\n",
              "    <div class=\"colab-df-buttons\">\n",
              "\n",
              "  <div class=\"colab-df-container\">\n",
              "    <button class=\"colab-df-convert\" onclick=\"convertToInteractive('df-08d1f85d-b1b4-4b4b-923d-6d57c4b1be14')\"\n",
              "            title=\"Convert this dataframe to an interactive table.\"\n",
              "            style=\"display:none;\">\n",
              "\n",
              "  <svg xmlns=\"http://www.w3.org/2000/svg\" height=\"24px\" viewBox=\"0 -960 960 960\">\n",
              "    <path d=\"M120-120v-720h720v720H120Zm60-500h600v-160H180v160Zm220 220h160v-160H400v160Zm0 220h160v-160H400v160ZM180-400h160v-160H180v160Zm440 0h160v-160H620v160ZM180-180h160v-160H180v160Zm440 0h160v-160H620v160Z\"/>\n",
              "  </svg>\n",
              "    </button>\n",
              "\n",
              "  <style>\n",
              "    .colab-df-container {\n",
              "      display:flex;\n",
              "      gap: 12px;\n",
              "    }\n",
              "\n",
              "    .colab-df-convert {\n",
              "      background-color: #E8F0FE;\n",
              "      border: none;\n",
              "      border-radius: 50%;\n",
              "      cursor: pointer;\n",
              "      display: none;\n",
              "      fill: #1967D2;\n",
              "      height: 32px;\n",
              "      padding: 0 0 0 0;\n",
              "      width: 32px;\n",
              "    }\n",
              "\n",
              "    .colab-df-convert:hover {\n",
              "      background-color: #E2EBFA;\n",
              "      box-shadow: 0px 1px 2px rgba(60, 64, 67, 0.3), 0px 1px 3px 1px rgba(60, 64, 67, 0.15);\n",
              "      fill: #174EA6;\n",
              "    }\n",
              "\n",
              "    .colab-df-buttons div {\n",
              "      margin-bottom: 4px;\n",
              "    }\n",
              "\n",
              "    [theme=dark] .colab-df-convert {\n",
              "      background-color: #3B4455;\n",
              "      fill: #D2E3FC;\n",
              "    }\n",
              "\n",
              "    [theme=dark] .colab-df-convert:hover {\n",
              "      background-color: #434B5C;\n",
              "      box-shadow: 0px 1px 3px 1px rgba(0, 0, 0, 0.15);\n",
              "      filter: drop-shadow(0px 1px 2px rgba(0, 0, 0, 0.3));\n",
              "      fill: #FFFFFF;\n",
              "    }\n",
              "  </style>\n",
              "\n",
              "    <script>\n",
              "      const buttonEl =\n",
              "        document.querySelector('#df-08d1f85d-b1b4-4b4b-923d-6d57c4b1be14 button.colab-df-convert');\n",
              "      buttonEl.style.display =\n",
              "        google.colab.kernel.accessAllowed ? 'block' : 'none';\n",
              "\n",
              "      async function convertToInteractive(key) {\n",
              "        const element = document.querySelector('#df-08d1f85d-b1b4-4b4b-923d-6d57c4b1be14');\n",
              "        const dataTable =\n",
              "          await google.colab.kernel.invokeFunction('convertToInteractive',\n",
              "                                                    [key], {});\n",
              "        if (!dataTable) return;\n",
              "\n",
              "        const docLinkHtml = 'Like what you see? Visit the ' +\n",
              "          '<a target=\"_blank\" href=https://colab.research.google.com/notebooks/data_table.ipynb>data table notebook</a>'\n",
              "          + ' to learn more about interactive tables.';\n",
              "        element.innerHTML = '';\n",
              "        dataTable['output_type'] = 'display_data';\n",
              "        await google.colab.output.renderOutput(dataTable, element);\n",
              "        const docLink = document.createElement('div');\n",
              "        docLink.innerHTML = docLinkHtml;\n",
              "        element.appendChild(docLink);\n",
              "      }\n",
              "    </script>\n",
              "  </div>\n",
              "\n",
              "\n",
              "<div id=\"df-c9b8f675-1000-47c4-a879-0c2d0568b2ed\">\n",
              "  <button class=\"colab-df-quickchart\" onclick=\"quickchart('df-c9b8f675-1000-47c4-a879-0c2d0568b2ed')\"\n",
              "            title=\"Suggest charts\"\n",
              "            style=\"display:none;\">\n",
              "\n",
              "<svg xmlns=\"http://www.w3.org/2000/svg\" height=\"24px\"viewBox=\"0 0 24 24\"\n",
              "     width=\"24px\">\n",
              "    <g>\n",
              "        <path d=\"M19 3H5c-1.1 0-2 .9-2 2v14c0 1.1.9 2 2 2h14c1.1 0 2-.9 2-2V5c0-1.1-.9-2-2-2zM9 17H7v-7h2v7zm4 0h-2V7h2v10zm4 0h-2v-4h2v4z\"/>\n",
              "    </g>\n",
              "</svg>\n",
              "  </button>\n",
              "\n",
              "<style>\n",
              "  .colab-df-quickchart {\n",
              "      --bg-color: #E8F0FE;\n",
              "      --fill-color: #1967D2;\n",
              "      --hover-bg-color: #E2EBFA;\n",
              "      --hover-fill-color: #174EA6;\n",
              "      --disabled-fill-color: #AAA;\n",
              "      --disabled-bg-color: #DDD;\n",
              "  }\n",
              "\n",
              "  [theme=dark] .colab-df-quickchart {\n",
              "      --bg-color: #3B4455;\n",
              "      --fill-color: #D2E3FC;\n",
              "      --hover-bg-color: #434B5C;\n",
              "      --hover-fill-color: #FFFFFF;\n",
              "      --disabled-bg-color: #3B4455;\n",
              "      --disabled-fill-color: #666;\n",
              "  }\n",
              "\n",
              "  .colab-df-quickchart {\n",
              "    background-color: var(--bg-color);\n",
              "    border: none;\n",
              "    border-radius: 50%;\n",
              "    cursor: pointer;\n",
              "    display: none;\n",
              "    fill: var(--fill-color);\n",
              "    height: 32px;\n",
              "    padding: 0;\n",
              "    width: 32px;\n",
              "  }\n",
              "\n",
              "  .colab-df-quickchart:hover {\n",
              "    background-color: var(--hover-bg-color);\n",
              "    box-shadow: 0 1px 2px rgba(60, 64, 67, 0.3), 0 1px 3px 1px rgba(60, 64, 67, 0.15);\n",
              "    fill: var(--button-hover-fill-color);\n",
              "  }\n",
              "\n",
              "  .colab-df-quickchart-complete:disabled,\n",
              "  .colab-df-quickchart-complete:disabled:hover {\n",
              "    background-color: var(--disabled-bg-color);\n",
              "    fill: var(--disabled-fill-color);\n",
              "    box-shadow: none;\n",
              "  }\n",
              "\n",
              "  .colab-df-spinner {\n",
              "    border: 2px solid var(--fill-color);\n",
              "    border-color: transparent;\n",
              "    border-bottom-color: var(--fill-color);\n",
              "    animation:\n",
              "      spin 1s steps(1) infinite;\n",
              "  }\n",
              "\n",
              "  @keyframes spin {\n",
              "    0% {\n",
              "      border-color: transparent;\n",
              "      border-bottom-color: var(--fill-color);\n",
              "      border-left-color: var(--fill-color);\n",
              "    }\n",
              "    20% {\n",
              "      border-color: transparent;\n",
              "      border-left-color: var(--fill-color);\n",
              "      border-top-color: var(--fill-color);\n",
              "    }\n",
              "    30% {\n",
              "      border-color: transparent;\n",
              "      border-left-color: var(--fill-color);\n",
              "      border-top-color: var(--fill-color);\n",
              "      border-right-color: var(--fill-color);\n",
              "    }\n",
              "    40% {\n",
              "      border-color: transparent;\n",
              "      border-right-color: var(--fill-color);\n",
              "      border-top-color: var(--fill-color);\n",
              "    }\n",
              "    60% {\n",
              "      border-color: transparent;\n",
              "      border-right-color: var(--fill-color);\n",
              "    }\n",
              "    80% {\n",
              "      border-color: transparent;\n",
              "      border-right-color: var(--fill-color);\n",
              "      border-bottom-color: var(--fill-color);\n",
              "    }\n",
              "    90% {\n",
              "      border-color: transparent;\n",
              "      border-bottom-color: var(--fill-color);\n",
              "    }\n",
              "  }\n",
              "</style>\n",
              "\n",
              "  <script>\n",
              "    async function quickchart(key) {\n",
              "      const quickchartButtonEl =\n",
              "        document.querySelector('#' + key + ' button');\n",
              "      quickchartButtonEl.disabled = true;  // To prevent multiple clicks.\n",
              "      quickchartButtonEl.classList.add('colab-df-spinner');\n",
              "      try {\n",
              "        const charts = await google.colab.kernel.invokeFunction(\n",
              "            'suggestCharts', [key], {});\n",
              "      } catch (error) {\n",
              "        console.error('Error during call to suggestCharts:', error);\n",
              "      }\n",
              "      quickchartButtonEl.classList.remove('colab-df-spinner');\n",
              "      quickchartButtonEl.classList.add('colab-df-quickchart-complete');\n",
              "    }\n",
              "    (() => {\n",
              "      let quickchartButtonEl =\n",
              "        document.querySelector('#df-c9b8f675-1000-47c4-a879-0c2d0568b2ed button');\n",
              "      quickchartButtonEl.style.display =\n",
              "        google.colab.kernel.accessAllowed ? 'block' : 'none';\n",
              "    })();\n",
              "  </script>\n",
              "</div>\n",
              "    </div>\n",
              "  </div>\n"
            ],
            "application/vnd.google.colaboratory.intrinsic+json": {
              "type": "dataframe",
              "repr_error": "0"
            }
          },
          "metadata": {},
          "execution_count": 19
        }
      ]
    },
    {
      "cell_type": "code",
      "source": [
        "df[df['Date']=='11/23/2011']"
      ],
      "metadata": {
        "id": "soqbVB8PgmBD"
      },
      "id": "soqbVB8PgmBD",
      "execution_count": null,
      "outputs": []
    },
    {
      "cell_type": "code",
      "source": [
        "df[df['Date']=='01/06/2012']"
      ],
      "metadata": {
        "id": "CYJYpt7Eg661"
      },
      "id": "CYJYpt7Eg661",
      "execution_count": null,
      "outputs": []
    },
    {
      "cell_type": "code",
      "source": [
        "df.plot(kind='scatter',x='Distance',y='TotalTime')"
      ],
      "metadata": {
        "id": "vRgwJC41hOr0"
      },
      "id": "vRgwJC41hOr0",
      "execution_count": null,
      "outputs": []
    },
    {
      "cell_type": "code",
      "source": [
        "df['AvgSpeed'].plot(kind='box')"
      ],
      "metadata": {
        "id": "1_DKBS-dhexO"
      },
      "id": "1_DKBS-dhexO",
      "execution_count": null,
      "outputs": []
    },
    {
      "cell_type": "code",
      "source": [
        "df['AvgMovingSpeed'].plot(kind='box')"
      ],
      "metadata": {
        "id": "UD68O-e7hpRS"
      },
      "id": "UD68O-e7hpRS",
      "execution_count": null,
      "outputs": []
    }
  ],
  "metadata": {
    "kernelspec": {
      "display_name": "Python 3 (ipykernel)",
      "language": "python",
      "name": "python3"
    },
    "language_info": {
      "codemirror_mode": {
        "name": "ipython",
        "version": 3
      },
      "file_extension": ".py",
      "mimetype": "text/x-python",
      "name": "python",
      "nbconvert_exporter": "python",
      "pygments_lexer": "ipython3",
      "version": "3.8.2"
    },
    "colab": {
      "provenance": []
    }
  },
  "nbformat": 4,
  "nbformat_minor": 5
}